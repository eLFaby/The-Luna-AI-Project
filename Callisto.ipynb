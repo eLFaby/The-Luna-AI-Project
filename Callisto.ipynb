{
 "cells": [
  {
   "cell_type": "markdown",
   "metadata": {},
   "source": [
    "Discovered in 1610 by Galileo Galilei and Simon Marius, Callisto could be considered as the oldest moon discovered. Hence why i choose it as the Database and Storage Module.\n"
   ]
  },
  {
   "cell_type": "code",
   "execution_count": null,
   "metadata": {},
   "outputs": [],
   "source": []
  }
 ],
 "metadata": {
  "language_info": {
   "name": "python"
  }
 },
 "nbformat": 4,
 "nbformat_minor": 2
}
