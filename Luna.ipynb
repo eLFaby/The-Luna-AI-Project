{
 "cells": [
  {
   "cell_type": "code",
   "execution_count": 1,
   "metadata": {},
   "outputs": [
    {
     "name": "stderr",
     "output_type": "stream",
     "text": [
      "2024-04-29 13:26:51.345256: I tensorflow/core/platform/cpu_feature_guard.cc:210] This TensorFlow binary is optimized to use available CPU instructions in performance-critical operations.\n",
      "To enable the following instructions: AVX2 FMA, in other operations, rebuild TensorFlow with the appropriate compiler flags.\n",
      "2024-04-29 13:26:52.463962: W tensorflow/compiler/tf2tensorrt/utils/py_utils.cc:38] TF-TRT Warning: Could not find TensorRT\n",
      "2024-04-29 13:26:54.461691: I external/local_xla/xla/stream_executor/cuda/cuda_executor.cc:998] successful NUMA node read from SysFS had negative value (-1), but there must be at least one NUMA node, so returning NUMA node zero. See more at https://github.com/torvalds/linux/blob/v6.0/Documentation/ABI/testing/sysfs-bus-pci#L344-L355\n",
      "2024-04-29 13:26:54.462559: W tensorflow/core/common_runtime/gpu/gpu_device.cc:2251] Cannot dlopen some GPU libraries. Please make sure the missing libraries mentioned above are installed properly if you would like to use GPU. Follow the guide at https://www.tensorflow.org/install/gpu for how to download and setup the required libraries for your platform.\n",
      "Skipping registering GPU devices...\n"
     ]
    },
    {
     "data": {
      "text/plain": [
       "True"
      ]
     },
     "execution_count": 1,
     "metadata": {},
     "output_type": "execute_result"
    }
   ],
   "source": [
    "import os\n",
    "\n",
    "# Hide warnings\n",
    "# os.environ['TF_CPP_MIN_LOG_LEVEL'] = '2'\n",
    "\n",
    "import tensorflow as tf\n",
    "# Limiting GPU growth\n",
    "gpus = tf.config.experimental.list_physical_devices('GPU')\n",
    "if gpus:\n",
    "    for gpu in gpus:\n",
    "        tf.config.experimental.set_memory_growth(gpu, True)\n",
    "\n",
    "import torch\n",
    "torch.cuda.empty_cache()   # Emptying Cuda cache in order to free important space\n",
    "torch.cuda.is_available()"
   ]
  },
  {
   "cell_type": "code",
   "execution_count": 2,
   "metadata": {},
   "outputs": [
    {
     "name": "stderr",
     "output_type": "stream",
     "text": [
      "2024-04-29 13:26:57.131384: W external/local_tsl/tsl/framework/cpu_allocator_impl.cc:83] Allocation of 2097152000 exceeds 10% of free system memory.\n",
      "2024-04-29 13:26:58.168946: W external/local_tsl/tsl/framework/cpu_allocator_impl.cc:83] Allocation of 2097152000 exceeds 10% of free system memory.\n",
      "2024-04-29 13:26:58.399839: W external/local_tsl/tsl/framework/cpu_allocator_impl.cc:83] Allocation of 2097152000 exceeds 10% of free system memory.\n",
      "/home/devy/miniconda3/envs/AI/lib/python3.9/site-packages/keras/src/saving/serialization_lib.py:734: UserWarning: `compile()` was not called as part of model loading because the model's `compile()` method is custom. All subclassed Models that have `compile()` overridden should also override `get_compile_config()` and `compile_from_config(config)`. Alternatively, you can call `compile()` manually after loading.\n",
      "  instance.compile_from_config(compile_config)\n",
      "2024-04-29 13:35:06.326867: W external/local_tsl/tsl/framework/cpu_allocator_impl.cc:83] Allocation of 2097152000 exceeds 10% of free system memory.\n",
      "/home/devy/miniconda3/envs/AI/lib/python3.9/site-packages/keras/src/saving/saving_lib.py:415: UserWarning: Skipping variable loading for optimizer 'adam', because it has 2 variables whereas the saved optimizer has 218 variables. \n",
      "  saveable.load_own_variables(weights_store.get(inner_path))\n",
      "normalizer.cc(51) LOG(INFO) precompiled_charsmap is empty. use identity normalization.\n"
     ]
    }
   ],
   "source": [
    "from keras.models import load_model\n",
    "\n",
    "# Path to the saved model file\n",
    "model_path = \"./model/gemma/gemma_2b_ft.keras\"\n",
    "\n",
    "# Load the model\n",
    "loaded_model = load_model(model_path)"
   ]
  },
  {
   "cell_type": "code",
   "execution_count": 5,
   "metadata": {},
   "outputs": [
    {
     "name": "stderr",
     "output_type": "stream",
     "text": [
      "WARNING: All log messages before absl::InitializeLog() is called are written to STDERR\n",
      "I0000 00:00:1714393224.901298     493 service.cc:145] XLA service 0x2b90cd10 initialized for platform Host (this does not guarantee that XLA will be used). Devices:\n",
      "I0000 00:00:1714393224.902104     493 service.cc:153]   StreamExecutor device (0): Host, Default Version\n",
      "2024-04-29 15:20:25.500677: I tensorflow/compiler/mlir/tensorflow/utils/dump_mlir_util.cc:268] disabling MLIR crash reproducer, set env var `MLIR_CRASH_REPRODUCER_DIRECTORY` to enable.\n",
      "I0000 00:00:1714393235.711272     493 device_compiler.h:188] Compiled cluster using XLA!  This line is logged at most once for the lifetime of the process.\n"
     ]
    },
    {
     "name": "stdout",
     "output_type": "stream",
     "text": [
      "Query:\n",
      "Who are you?\n",
      "\n",
      "Response:\n",
      "I am a large language model, trained by Google. I am a conversational AI that can understand and respond to your questions and requests. I am also able to generate creative text formats, such as poems, scripts, and emails.\n"
     ]
    }
   ],
   "source": [
    "template = \"Query:\\n{instruction}\\n\\nResponse:\\n{response}\"\n",
    "prompt=template.format(\n",
    "instruction='Who are you?',\n",
    "response='',\n",
    ")\n",
    "print(loaded_model.generate(prompt, max_length=256))"
   ]
  },
  {
   "cell_type": "code",
   "execution_count": 7,
   "metadata": {},
   "outputs": [],
   "source": [
    "import tkinter as tk\n",
    "from tkinter import scrolledtext\n",
    "\n",
    "class ChatWindow:\n",
    "    def __init__(self, master):\n",
    "        self.master = master\n",
    "        master.title(\"Chat Window\")\n",
    "\n",
    "        self.chat_history = scrolledtext.ScrolledText(master, width=60, height=20)\n",
    "        self.chat_history.grid(row=0, column=0, columnspan=2, padx=10, pady=10)\n",
    "\n",
    "        self.input_label = tk.Label(master, text=\"Your message:\")\n",
    "        self.input_label.grid(row=1, column=0, padx=10, pady=5, sticky=\"w\")\n",
    "\n",
    "        self.input_entry = tk.Entry(master, width=40)\n",
    "        self.input_entry.grid(row=1, column=1, padx=10, pady=5)\n",
    "\n",
    "        self.send_button = tk.Button(master, text=\"Send\", command=self.send_message)\n",
    "        self.send_button.grid(row=2, column=0, columnspan=2, padx=10, pady=5)\n",
    "\n",
    "    def send_message(self):\n",
    "        message = self.input_entry.get()\n",
    "        if message:\n",
    "            # Display user message in chat history\n",
    "            self.display_message(\"You\", message)\n",
    "            # Process user input\n",
    "            prompt = message + \"\\n\\n\"\n",
    "            response = loaded_model.generate(prompt, max_length=256)\n",
    "            # Display model response in chat history\n",
    "            self.display_message(\"Model\", response)\n",
    "            # Clear input entry\n",
    "            self.input_entry.delete(0, tk.END)\n",
    "\n",
    "    def display_message(self, sender, message):\n",
    "        self.chat_history.configure(state='normal')\n",
    "        self.chat_history.insert(tk.END, f\"{sender}: {message}\\n\")\n",
    "        self.chat_history.configure(state='disabled')\n",
    "        # Scroll to the bottom of the chat history\n",
    "        self.chat_history.see(tk.END)\n",
    "\n",
    "def main():\n",
    "    root = tk.Tk()\n",
    "    app = ChatWindow(root)\n",
    "    root.mainloop()\n",
    "\n",
    "if __name__ == \"__main__\":\n",
    "    main()\n"
   ]
  }
 ],
 "metadata": {
  "kernelspec": {
   "display_name": "AI",
   "language": "python",
   "name": "python3"
  },
  "language_info": {
   "codemirror_mode": {
    "name": "ipython",
    "version": 3
   },
   "file_extension": ".py",
   "mimetype": "text/x-python",
   "name": "python",
   "nbconvert_exporter": "python",
   "pygments_lexer": "ipython3",
   "version": "3.9.18"
  }
 },
 "nbformat": 4,
 "nbformat_minor": 2
}
