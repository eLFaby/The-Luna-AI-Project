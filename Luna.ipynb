{
 "cells": [
  {
   "cell_type": "markdown",
   "metadata": {},
   "source": [
    "The Core, the heart, the soul."
   ]
  },
  {
   "cell_type": "code",
   "execution_count": 16,
   "metadata": {},
   "outputs": [],
   "source": [
    "# Imports \n",
    "import pandas as pd\n",
    "import tensorflow as tf\n",
    "import collections\n",
    "import re\n",
    "import unicodedata\n",
    "import six\n",
    "import numpy as np\n",
    "from sklearn.model_selection import train_test_split"
   ]
  },
  {
   "cell_type": "code",
   "execution_count": 17,
   "metadata": {},
   "outputs": [],
   "source": [
    "# Database location '..\\The-Luna-AI-Project\\Database'\n",
    "db='..\\The-Luna-AI-Project\\Database'\n",
    "smoldb=db+'\\Conversation.csv'"
   ]
  },
  {
   "cell_type": "code",
   "execution_count": 18,
   "metadata": {},
   "outputs": [],
   "source": [
    "df=pd.read_csv(smoldb,index_col=0)\n",
    "df.head()\n",
    "data=df[['question','answer']].values\n",
    "y=df['answer'].values"
   ]
  },
  {
   "cell_type": "code",
   "execution_count": 19,
   "metadata": {},
   "outputs": [],
   "source": [
    "max_len=128\n",
    "data = [' '.join((str(q) + ' ' + str(a)).split()[:max_len]) for q, a in data]\n",
    "data = np.array(data, dtype=object)[:, np.newaxis]\n",
    "x_train, x_val, y_train, y_val =train_test_split(data,y,random_state=1,test_size=0.2)\n"
   ]
  },
  {
   "cell_type": "markdown",
   "metadata": {},
   "source": [
    "Experimental"
   ]
  },
  {
   "cell_type": "code",
   "execution_count": 20,
   "metadata": {},
   "outputs": [
    {
     "ename": "TypeError",
     "evalue": "create_tokenizer_from_hub_module() missing 1 required positional argument: 'bert_path'",
     "output_type": "error",
     "traceback": [
      "\u001b[1;31m---------------------------------------------------------------------------\u001b[0m",
      "\u001b[1;31mTypeError\u001b[0m                                 Traceback (most recent call last)",
      "Cell \u001b[1;32mIn[20], line 8\u001b[0m\n\u001b[0;32m      5\u001b[0m \u001b[38;5;28;01mimport\u001b[39;00m \u001b[38;5;21;01mbert_token\u001b[39;00m \u001b[38;5;28;01mas\u001b[39;00m \u001b[38;5;21;01mbt\u001b[39;00m\n\u001b[0;32m      7\u001b[0m \u001b[38;5;66;03m# Instantiate tokenizer\u001b[39;00m\n\u001b[1;32m----> 8\u001b[0m tokenizer \u001b[38;5;241m=\u001b[39m \u001b[43mbt\u001b[49m\u001b[38;5;241;43m.\u001b[39;49m\u001b[43mcreate_tokenizer_from_hub_module\u001b[49m\u001b[43m(\u001b[49m\u001b[43m)\u001b[49m\n\u001b[0;32m     10\u001b[0m \u001b[38;5;66;03m# Convert data to InputExample format\u001b[39;00m\n\u001b[0;32m     11\u001b[0m train_examples \u001b[38;5;241m=\u001b[39m bt\u001b[38;5;241m.\u001b[39mconvert_text_to_examples(x_train, y_train)\n",
      "\u001b[1;31mTypeError\u001b[0m: create_tokenizer_from_hub_module() missing 1 required positional argument: 'bert_path'"
     ]
    }
   ],
   "source": [
    "# Using BERT code\n",
    "import sys\n",
    "sys.path.append('../The-Luna-AI-Project/BERT/')\n",
    "import bert_token as bt\n",
    "\n",
    "# Instantiate tokenizer\n",
    "tokenizer = bt.create_tokenizer_from_hub_module()\n",
    "\n",
    "# Convert data to InputExample format\n",
    "train_examples = bt.convert_text_to_examples(x_train, y_train)\n",
    "test_examples = bt.convert_text_to_examples(x_val, y_val)\n",
    "\n",
    "# Convert to features\n",
    "train_input_ids, train_input_masks, train_segment_ids, train_labels = bt.convert_examples_to_features(tokenizer, train_examples, max_seq_length=max_len)\n",
    "test_input_ids, test_input_masks, test_segment_ids, test_labels = bt.convert_examples_to_features(tokenizer, test_examples, max_seq_length=max_len)"
   ]
  }
 ],
 "metadata": {
  "kernelspec": {
   "display_name": "Python 3",
   "language": "python",
   "name": "python3"
  },
  "language_info": {
   "codemirror_mode": {
    "name": "ipython",
    "version": 3
   },
   "file_extension": ".py",
   "mimetype": "text/x-python",
   "name": "python",
   "nbconvert_exporter": "python",
   "pygments_lexer": "ipython3",
   "version": "3.11.3"
  }
 },
 "nbformat": 4,
 "nbformat_minor": 2
}
